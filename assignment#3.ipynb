{
 "cells": [
  {
   "cell_type": "code",
   "execution_count": 13,
   "metadata": {},
   "outputs": [
    {
     "name": "stdout",
     "output_type": "stream",
     "text": [
      "{'ali', 'ubiad', 'ahsan'}\n",
      "{'fahad', 'ali', 'ubiad', 'ahsan'}\n"
     ]
    }
   ],
   "source": [
    "#Q.3\n",
    "d = {\"ali\", \"ubiad\",\"ahsan\"}\n",
    "print(d)\n",
    "d.update({\"fahad\"})\n",
    "print(d)"
   ]
  },
  {
   "cell_type": "code",
   "execution_count": 22,
   "metadata": {},
   "outputs": [
    {
     "name": "stdout",
     "output_type": "stream",
     "text": [
      "110\n"
     ]
    }
   ],
   "source": [
    "#Q.4\n",
    "val ={'a':11,'b':22,'c':33,'d':44}\n",
    "print(sum(val.values()))\n"
   ]
  },
  {
   "cell_type": "code",
   "execution_count": null,
   "metadata": {},
   "outputs": [],
   "source": [
    "#Q.5\n",
    "a = [1,2,3,2,1,5,6,5,5,5]\n",
    "\n",
    "import collections\n",
    "for item, count in collections.Counter(a).items() :\n",
    "     if count > 1:\n",
    "            print(\"this is duplicate value\",item)"
   ]
  },
  {
   "cell_type": "code",
   "execution_count": null,
   "metadata": {},
   "outputs": [],
   "source": [
    "# Q.1\n",
    "val1 = input(\"Enter first value\")\n",
    "val2 =input(\"Enter second value\")\n",
    "operator=input(\"Enter operator\")\n",
    "val1 = int(val1)\n",
    "val2 = int(val2)\n",
    "if operator =='+':\n",
    "    val=val1+val2\n",
    "    print(val,'answer')\n",
    "elif operator =='-':\n",
    "    val=val1-val2\n",
    "    print(val,'answer')\n",
    "elif operator =='*':\n",
    "    val=val1*val2\n",
    "    print(val,'answer')\n",
    "elif operator =='/':\n",
    "    val=val1/val2\n",
    "    print(val,'answer')\n",
    "else:\n",
    "    print('enter correct operator')"
   ]
  },
  {
   "cell_type": "code",
   "execution_count": null,
   "metadata": {},
   "outputs": [],
   "source": []
  },
  {
   "cell_type": "code",
   "execution_count": null,
   "metadata": {},
   "outputs": [],
   "source": [
    "# Q,2\n",
    "checklist=[1,3,\"ali\",6,\"ahsan\",7]\n",
    "for a in checklist:\n",
    "    if isinstance(a,int):\n",
    "        print(\"this is numaric value in a list\",a)"
   ]
  },
  {
   "cell_type": "code",
   "execution_count": null,
   "metadata": {},
   "outputs": [],
   "source": [
    "# Q,6\n",
    "dickey={'name':'ali','fullname':'ahsan'}\n",
    "inp=input(\"enter key:\")\n",
    "for xz in dickey.key():\n",
    "    if inp ==xz:\n",
    "        print(\"key already exist\")\n"
   ]
  }
 ],
 "metadata": {
  "kernelspec": {
   "display_name": "Python 3",
   "language": "python",
   "name": "python3"
  },
  "language_info": {
   "codemirror_mode": {
    "name": "ipython",
    "version": 3
   },
   "file_extension": ".py",
   "mimetype": "text/x-python",
   "name": "python",
   "nbconvert_exporter": "python",
   "pygments_lexer": "ipython3",
   "version": "3.7.4"
  }
 },
 "nbformat": 4,
 "nbformat_minor": 2
}
