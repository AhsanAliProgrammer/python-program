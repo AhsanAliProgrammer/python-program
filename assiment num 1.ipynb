{
 "cells": [
  {
   "cell_type": "code",
   "execution_count": 25,
   "metadata": {},
   "outputs": [
    {
     "name": "stdout",
     "output_type": "stream",
     "text": [
      "Twinkle, twinkle, little star, \n",
      "\t How I Wonder What you are! \n",
      "\t\tup up above the world so high, \n",
      "\t\tlike a diamond in the sky.\n",
      " twinkle, twinkle, little star, \n",
      "\t How I wonder what you are\n"
     ]
    }
   ],
   "source": [
    "print (\"Twinkle, twinkle, little star, \\n\\t How I Wonder What you are! \\n\\t\\tup up above the world so high, \\n\\t\\tlike a diamond in the sky.\\n twinkle, twinkle, little star, \\n\\t How I wonder what you are\")"
   ]
  },
  {
   "cell_type": "code",
   "execution_count": 3,
   "metadata": {},
   "outputs": [
    {
     "name": "stdout",
     "output_type": "stream",
     "text": [
      "python version\n",
      "3.7.4 (default, Aug  9 2019, 18:22:51) [MSC v.1915 32 bit (Intel)]\n",
      "version info.\n",
      "sys.version_info(major=3, minor=7, micro=4, releaselevel='final', serial=0)\n"
     ]
    }
   ],
   "source": [
    "import sys\n",
    "print(\"python version\")\n",
    "print (sys.version)\n",
    "print(\"version info.\")\n",
    "print (sys.version_info)"
   ]
  },
  {
   "cell_type": "code",
   "execution_count": 40,
   "metadata": {},
   "outputs": [
    {
     "name": "stdout",
     "output_type": "stream",
     "text": [
      "current date and time : \n",
      " 2019-11-01 06:37:17: \n"
     ]
    }
   ],
   "source": [
    "import datetime\n",
    "now = datetime.datetime. now()\n",
    "print (\"current date and time : \")\n",
    "print (now.strftime(\" %Y-%m-%d %H:%M:%S: \"))"
   ]
  },
  {
   "cell_type": "code",
   "execution_count": 43,
   "metadata": {},
   "outputs": [
    {
     "name": "stdout",
     "output_type": "stream",
     "text": [
      "input the redius of the circule : 23\n",
      "the area of the circle with redius23is:1661.9025137490005\n"
     ]
    }
   ],
   "source": [
    "from math import pi\n",
    "r = int(input(\"input the redius of the circule : \"))\n",
    "print (\"the area of the circle with redius\" + str(r) + \"is:\" + str(pi* r**2) )"
   ]
  },
  {
   "cell_type": "markdown",
   "metadata": {},
   "source": []
  },
  {
   "cell_type": "code",
   "execution_count": 17,
   "metadata": {},
   "outputs": [
    {
     "name": "stdout",
     "output_type": "stream",
     "text": [
      "input your first name : ahsan\n",
      "input your last name : ali\n",
      "hello ahsan ali\n"
     ]
    }
   ],
   "source": [
    "firstname = input(\"input your first name : \") \n",
    "lastname = input (\"input your last name : \") \n",
    "print (\"hello\"+\" \"+firstname+\" \"+lastname)"
   ]
  },
  {
   "cell_type": "code",
   "execution_count": 18,
   "metadata": {},
   "outputs": [
    {
     "name": "stdout",
     "output_type": "stream",
     "text": [
      "first number :2\n",
      "second number :3\n",
      "sum: 5\n"
     ]
    }
   ],
   "source": [
    "a = int(input(\"first number :\"))\n",
    "b = int(input(\"second number :\"))\n",
    "sum = a+b\n",
    "print(\"sum:\", sum)"
   ]
  },
  {
   "cell_type": "code",
   "execution_count": 42,
   "metadata": {},
   "outputs": [],
   "source": []
  },
  {
   "cell_type": "code",
   "execution_count": null,
   "metadata": {},
   "outputs": [],
   "source": []
  }
 ],
 "metadata": {
  "kernelspec": {
   "display_name": "Python 3",
   "language": "python",
   "name": "python3"
  },
  "language_info": {
   "codemirror_mode": {
    "name": "ipython",
    "version": 3
   },
   "file_extension": ".py",
   "mimetype": "text/x-python",
   "name": "python",
   "nbconvert_exporter": "python",
   "pygments_lexer": "ipython3",
   "version": "3.7.4"
  }
 },
 "nbformat": 4,
 "nbformat_minor": 2
}
